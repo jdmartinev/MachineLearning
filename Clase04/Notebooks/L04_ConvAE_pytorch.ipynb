{
  "nbformat": 4,
  "nbformat_minor": 0,
  "metadata": {
    "colab": {
      "provenance": [],
      "gpuType": "T4",
      "authorship_tag": "ABX9TyP5a2nuqq9zYoPJ6h+/d/YR",
      "include_colab_link": true
    },
    "kernelspec": {
      "name": "python3",
      "display_name": "Python 3"
    },
    "language_info": {
      "name": "python"
    },
    "accelerator": "GPU"
  },
  "cells": [
    {
      "cell_type": "markdown",
      "metadata": {
        "id": "view-in-github",
        "colab_type": "text"
      },
      "source": [
        "<a href=\"https://colab.research.google.com/github/jdmartinev/ArtificialIntelligenceIM/blob/main/Lecture06/notebooks/L06_ConvAE_pytorch.ipynb\" target=\"_parent\"><img src=\"https://colab.research.google.com/assets/colab-badge.svg\" alt=\"Open In Colab\"/></a>"
      ]
    },
    {
      "cell_type": "markdown",
      "source": [
        "## Convolutional autoencoder\n",
        "\n",
        "\n",
        "Let's create simplest autoencoder for MNIST!\n"
      ],
      "metadata": {
        "id": "-Xjhy_csHEi-"
      }
    },
    {
      "cell_type": "code",
      "execution_count": null,
      "metadata": {
        "id": "qJWLtb4-GA9J"
      },
      "outputs": [],
      "source": [
        "import torch\n",
        "import torchvision\n",
        "import matplotlib.pyplot as plt\n",
        "from torchvision import transforms\n",
        "from torch import nn\n",
        "from torch import optim\n",
        "from tqdm import tqdm\n",
        "import numpy as np\n",
        "import torch.nn.functional as F\n",
        "torch.manual_seed(42)\n",
        "np.random.seed(42)"
      ]
    },
    {
      "cell_type": "markdown",
      "source": [
        "Define training parameters and check if the GPU is available:"
      ],
      "metadata": {
        "id": "bq0RD42BHPnt"
      }
    },
    {
      "cell_type": "code",
      "source": [
        "device = 'cuda:0' if torch.cuda.is_available() else 'cpu'\n",
        "train_size = 0.9\n",
        "lr = 1e-3\n",
        "eps = 1e-8\n",
        "batch_size = 256\n",
        "epochs = 30"
      ],
      "metadata": {
        "id": "Pcds4loQHJwb"
      },
      "execution_count": null,
      "outputs": []
    },
    {
      "cell_type": "markdown",
      "source": [
        "The following function will load the MNIST dataset and apply specified transforms to it. It will also split it into train/test datasets."
      ],
      "metadata": {
        "id": "Yg08SbFAHVVK"
      }
    },
    {
      "cell_type": "code",
      "source": [
        "def mnist(train_part, transform=None):\n",
        "    dataset = torchvision.datasets.MNIST('.', download=True, transform=transform)\n",
        "    train_part = int(train_part * len(dataset))\n",
        "    train_dataset, test_dataset = torch.utils.data.random_split(dataset, [train_part, len(dataset) - train_part])\n",
        "    return train_dataset, test_dataset"
      ],
      "metadata": {
        "id": "j2lMuWSDHUXc"
      },
      "execution_count": null,
      "outputs": []
    },
    {
      "cell_type": "markdown",
      "source": [
        "Now let's load the dataset and define dataloaders for train and test:"
      ],
      "metadata": {
        "id": "TbRqojgQHa_N"
      }
    },
    {
      "cell_type": "code",
      "source": [
        "transform = transforms.Compose([transforms.ToTensor()])\n",
        "\n",
        "train_dataset, test_dataset = mnist(train_size, transform)\n",
        "\n",
        "train_dataloader = torch.utils.data.DataLoader(train_dataset, drop_last=True, batch_size=batch_size, shuffle=True)\n",
        "test_dataloader = torch.utils.data.DataLoader(test_dataset, batch_size=1, shuffle=False)\n",
        "dataloaders = (train_dataloader, test_dataloader)"
      ],
      "metadata": {
        "colab": {
          "base_uri": "https://localhost:8080/"
        },
        "id": "gUGJ3WZmHghj",
        "outputId": "fd9fd1fa-d15e-4320-db62-dde416a99963"
      },
      "execution_count": null,
      "outputs": [
        {
          "output_type": "stream",
          "name": "stdout",
          "text": [
            "Downloading http://yann.lecun.com/exdb/mnist/train-images-idx3-ubyte.gz\n",
            "Failed to download (trying next):\n",
            "HTTP Error 403: Forbidden\n",
            "\n",
            "Downloading https://ossci-datasets.s3.amazonaws.com/mnist/train-images-idx3-ubyte.gz\n",
            "Downloading https://ossci-datasets.s3.amazonaws.com/mnist/train-images-idx3-ubyte.gz to ./MNIST/raw/train-images-idx3-ubyte.gz\n"
          ]
        },
        {
          "output_type": "stream",
          "name": "stderr",
          "text": [
            "100%|██████████| 9912422/9912422 [00:02<00:00, 4361535.27it/s]\n"
          ]
        },
        {
          "output_type": "stream",
          "name": "stdout",
          "text": [
            "Extracting ./MNIST/raw/train-images-idx3-ubyte.gz to ./MNIST/raw\n",
            "\n",
            "Downloading http://yann.lecun.com/exdb/mnist/train-labels-idx1-ubyte.gz\n",
            "Failed to download (trying next):\n",
            "HTTP Error 403: Forbidden\n",
            "\n",
            "Downloading https://ossci-datasets.s3.amazonaws.com/mnist/train-labels-idx1-ubyte.gz\n",
            "Downloading https://ossci-datasets.s3.amazonaws.com/mnist/train-labels-idx1-ubyte.gz to ./MNIST/raw/train-labels-idx1-ubyte.gz\n"
          ]
        },
        {
          "output_type": "stream",
          "name": "stderr",
          "text": [
            "100%|██████████| 28881/28881 [00:00<00:00, 63636.33it/s]\n"
          ]
        },
        {
          "output_type": "stream",
          "name": "stdout",
          "text": [
            "Extracting ./MNIST/raw/train-labels-idx1-ubyte.gz to ./MNIST/raw\n",
            "\n",
            "Downloading http://yann.lecun.com/exdb/mnist/t10k-images-idx3-ubyte.gz\n",
            "Failed to download (trying next):\n",
            "HTTP Error 403: Forbidden\n",
            "\n",
            "Downloading https://ossci-datasets.s3.amazonaws.com/mnist/t10k-images-idx3-ubyte.gz\n",
            "Downloading https://ossci-datasets.s3.amazonaws.com/mnist/t10k-images-idx3-ubyte.gz to ./MNIST/raw/t10k-images-idx3-ubyte.gz\n"
          ]
        },
        {
          "output_type": "stream",
          "name": "stderr",
          "text": [
            "100%|██████████| 1648877/1648877 [00:06<00:00, 245548.69it/s]\n"
          ]
        },
        {
          "output_type": "stream",
          "name": "stdout",
          "text": [
            "Extracting ./MNIST/raw/t10k-images-idx3-ubyte.gz to ./MNIST/raw\n",
            "\n",
            "Downloading http://yann.lecun.com/exdb/mnist/t10k-labels-idx1-ubyte.gz\n",
            "Failed to download (trying next):\n",
            "HTTP Error 403: Forbidden\n",
            "\n",
            "Downloading https://ossci-datasets.s3.amazonaws.com/mnist/t10k-labels-idx1-ubyte.gz\n",
            "Downloading https://ossci-datasets.s3.amazonaws.com/mnist/t10k-labels-idx1-ubyte.gz to ./MNIST/raw/t10k-labels-idx1-ubyte.gz\n"
          ]
        },
        {
          "output_type": "stream",
          "name": "stderr",
          "text": [
            "100%|██████████| 4542/4542 [00:00<00:00, 10084980.82it/s]"
          ]
        },
        {
          "output_type": "stream",
          "name": "stdout",
          "text": [
            "Extracting ./MNIST/raw/t10k-labels-idx1-ubyte.gz to ./MNIST/raw\n",
            "\n"
          ]
        },
        {
          "output_type": "stream",
          "name": "stderr",
          "text": [
            "\n"
          ]
        }
      ]
    },
    {
      "cell_type": "code",
      "execution_count": null,
      "metadata": {
        "execution": {
          "iopub.execute_input": "2022-04-08T00:15:41.692950Z",
          "iopub.status.busy": "2022-04-08T00:15:41.692376Z",
          "iopub.status.idle": "2022-04-08T00:15:41.700707Z",
          "shell.execute_reply": "2022-04-08T00:15:41.699723Z",
          "shell.execute_reply.started": "2022-04-08T00:15:41.692909Z"
        },
        "id": "LdyQz4092fRV",
        "trusted": true
      },
      "outputs": [],
      "source": [
        "def plotn(n, data, noisy=False, super_res=None):\n",
        "    fig, ax = plt.subplots(1, n)\n",
        "    for i, z in enumerate(data):\n",
        "        if i == n:\n",
        "            break\n",
        "        preprocess = z[0].reshape(1, 28, 28) if z[0].shape[1] == 28 else z[0].reshape(1, 14, 14) if z[0].shape[1] == 14 else z[0]\n",
        "        if super_res is not None:\n",
        "            _transform = transforms.Resize((int(preprocess.shape[1] / super_res), int(preprocess.shape[2] / super_res)))\n",
        "            preprocess = _transform(preprocess)\n",
        "\n",
        "        if noisy:\n",
        "            shapes = list(preprocess.shape)\n",
        "            preprocess += noisify(shapes)\n",
        "\n",
        "        ax[i].imshow(preprocess[0])\n",
        "    plt.show()"
      ]
    },
    {
      "cell_type": "code",
      "source": [
        "def noisify(shapes):\n",
        "    return np.random.normal(loc=0.5, scale=0.3, size=shapes)"
      ],
      "metadata": {
        "id": "E28CRxqjHuTT"
      },
      "execution_count": null,
      "outputs": []
    },
    {
      "cell_type": "code",
      "source": [
        "plotn(5, train_dataset)"
      ],
      "metadata": {
        "colab": {
          "base_uri": "https://localhost:8080/",
          "height": 170
        },
        "id": "H9DBW4M4Hxhk",
        "outputId": "fa5b2766-1848-416b-dd62-b29b2b7e81eb"
      },
      "execution_count": null,
      "outputs": [
        {
          "output_type": "display_data",
          "data": {
            "text/plain": [
              "<Figure size 640x480 with 5 Axes>"
            ],
            "image/png": "[encoded data removed]"
          },
          "metadata": {}
        }
      ]
    },
    {
      "cell_type": "code",
      "execution_count": null,
      "metadata": {
        "execution": {
          "iopub.execute_input": "2022-04-08T00:15:42.857823Z",
          "iopub.status.busy": "2022-04-08T00:15:42.857536Z",
          "iopub.status.idle": "2022-04-08T00:15:42.866008Z",
          "shell.execute_reply": "2022-04-08T00:15:42.865357Z",
          "shell.execute_reply.started": "2022-04-08T00:15:42.857787Z"
        },
        "id": "NnI2YvOg4DbT",
        "trusted": true
      },
      "outputs": [],
      "source": [
        "class Encoder(nn.Module):\n",
        "    def __init__(self):\n",
        "        super().__init__()\n",
        "        self.conv1 = nn.Conv2d(1, 16, kernel_size=(3, 3), padding='same')\n",
        "        self.maxpool1 = nn.MaxPool2d(kernel_size=(2, 2))\n",
        "        self.conv2 = nn.Conv2d(16, 8, kernel_size=(3, 3), padding='same')\n",
        "        self.maxpool2 = nn.MaxPool2d(kernel_size=(2, 2))\n",
        "        self.conv3 = nn.Conv2d(8, 8, kernel_size=(3, 3), padding='same')\n",
        "        self.maxpool3 = nn.MaxPool2d(kernel_size=(2, 2), padding=(1, 1))\n",
        "        self.relu = nn.ReLU()\n",
        "\n",
        "    def forward(self, input):\n",
        "        hidden1 = self.maxpool1(self.relu(self.conv1(input)))\n",
        "        hidden2 = self.maxpool2(self.relu(self.conv2(hidden1)))\n",
        "        encoded = self.maxpool3(self.relu(self.conv3(hidden2)))\n",
        "        return encoded"
      ]
    },
    {
      "cell_type": "code",
      "execution_count": null,
      "metadata": {
        "execution": {
          "iopub.execute_input": "2022-04-08T00:15:43.169659Z",
          "iopub.status.busy": "2022-04-08T00:15:43.169239Z",
          "iopub.status.idle": "2022-04-08T00:15:43.178700Z",
          "shell.execute_reply": "2022-04-08T00:15:43.178010Z",
          "shell.execute_reply.started": "2022-04-08T00:15:43.169622Z"
        },
        "id": "mZGB4Vr47478",
        "trusted": true
      },
      "outputs": [],
      "source": [
        "class Decoder(nn.Module):\n",
        "    def __init__(self):\n",
        "        super().__init__()\n",
        "        self.conv1 = nn.Conv2d(8, 8, kernel_size=(3, 3), padding='same')\n",
        "        self.upsample1 = nn.Upsample(scale_factor=(2, 2))\n",
        "        self.conv2 = nn.Conv2d(8, 8, kernel_size=(3, 3), padding='same')\n",
        "        self.upsample2 = nn.Upsample(scale_factor=(2, 2))\n",
        "        self.conv3 = nn.Conv2d(8, 16, kernel_size=(3, 3))\n",
        "        self.upsample3 = nn.Upsample(scale_factor=(2, 2))\n",
        "        self.conv4 = nn.Conv2d(16, 1, kernel_size=(3, 3), padding='same')\n",
        "        self.relu = nn.ReLU()\n",
        "        self.sigmoid = nn.Sigmoid()\n",
        "\n",
        "    def forward(self, input):\n",
        "        hidden1 = self.upsample1(self.relu(self.conv1(input)))\n",
        "        hidden2 = self.upsample2(self.relu(self.conv2(hidden1)))\n",
        "        hidden3 = self.upsample3(self.relu(self.conv3(hidden2)))\n",
        "        decoded = self.sigmoid(self.conv4(hidden3))\n",
        "        return decoded"
      ]
    },
    {
      "cell_type": "code",
      "execution_count": null,
      "metadata": {
        "execution": {
          "iopub.execute_input": "2022-04-08T00:15:43.593770Z",
          "iopub.status.busy": "2022-04-08T00:15:43.593178Z",
          "iopub.status.idle": "2022-04-08T00:15:43.600152Z",
          "shell.execute_reply": "2022-04-08T00:15:43.599205Z",
          "shell.execute_reply.started": "2022-04-08T00:15:43.593731Z"
        },
        "id": "SDGiAPhbBBLY",
        "trusted": true
      },
      "outputs": [],
      "source": [
        "class AutoEncoder(nn.Module):\n",
        "    def __init__(self, super_resolution=False):\n",
        "        super().__init__()\n",
        "        if not super_resolution:\n",
        "            self.encoder = Encoder()\n",
        "        else:\n",
        "            self.encoder = SuperResolutionEncoder()\n",
        "        self.decoder = Decoder()\n",
        "\n",
        "    def forward(self, input):\n",
        "        encoded = self.encoder(input)\n",
        "        decoded = self.decoder(encoded)\n",
        "        return decoded"
      ]
    },
    {
      "cell_type": "code",
      "execution_count": null,
      "metadata": {
        "execution": {
          "iopub.execute_input": "2022-04-08T00:15:44.069329Z",
          "iopub.status.busy": "2022-04-08T00:15:44.068875Z",
          "iopub.status.idle": "2022-04-08T00:15:44.079486Z",
          "shell.execute_reply": "2022-04-08T00:15:44.078748Z",
          "shell.execute_reply.started": "2022-04-08T00:15:44.069289Z"
        },
        "id": "nZyG_mNu_Pnc",
        "trusted": true
      },
      "outputs": [],
      "source": [
        "model = AutoEncoder().to(device)\n",
        "optimizer = optim.Adam(model.parameters(), lr=lr, eps=eps)\n",
        "loss_fn = nn.BCELoss()"
      ]
    },
    {
      "cell_type": "code",
      "execution_count": null,
      "metadata": {
        "execution": {
          "iopub.execute_input": "2022-04-08T01:25:58.828126Z",
          "iopub.status.busy": "2022-04-08T01:25:58.827634Z",
          "iopub.status.idle": "2022-04-08T01:25:58.844248Z",
          "shell.execute_reply": "2022-04-08T01:25:58.843270Z",
          "shell.execute_reply.started": "2022-04-08T01:25:58.828092Z"
        },
        "id": "iiIy87v2_rUr",
        "trusted": true
      },
      "outputs": [],
      "source": [
        "def train(dataloaders, model, loss_fn, optimizer, epochs, device, noisy=None, super_res=None):\n",
        "    tqdm_iter = tqdm(range(epochs))\n",
        "    train_dataloader, test_dataloader = dataloaders[0], dataloaders[1]\n",
        "\n",
        "    for epoch in tqdm_iter:\n",
        "        model.train()\n",
        "        train_loss = 0.0\n",
        "        test_loss = 0.0\n",
        "\n",
        "        for batch in train_dataloader:\n",
        "            imgs, labels = batch\n",
        "            shapes = list(imgs.shape)\n",
        "\n",
        "            if super_res is not None:\n",
        "                shapes[2], shapes[3] = int(shapes[2] / super_res), int(shapes[3] / super_res)\n",
        "                _transform = transforms.Resize((shapes[2], shapes[3]))\n",
        "                imgs_transformed = _transform(imgs)\n",
        "                imgs_transformed = imgs_transformed.to(device)\n",
        "\n",
        "            imgs = imgs.to(device)\n",
        "            labels = labels.to(device)\n",
        "\n",
        "            if noisy is not None:\n",
        "                noisy_tensor = noisy[0]\n",
        "            else:\n",
        "                noisy_tensor = torch.zeros(tuple(shapes)).to(device)\n",
        "\n",
        "            if super_res is None:\n",
        "                imgs_noisy = imgs + noisy_tensor\n",
        "            else:\n",
        "                imgs_noisy = imgs_transformed + noisy_tensor\n",
        "\n",
        "            imgs_noisy = torch.clamp(imgs_noisy, 0., 1.)\n",
        "\n",
        "            preds = model(imgs_noisy)\n",
        "            loss = loss_fn(preds, imgs)\n",
        "\n",
        "            optimizer.zero_grad()\n",
        "            loss.backward()\n",
        "            optimizer.step()\n",
        "\n",
        "            train_loss += loss.item()\n",
        "\n",
        "        model.eval()\n",
        "        with torch.no_grad():\n",
        "            for batch in test_dataloader:\n",
        "                imgs, labels = batch\n",
        "                shapes = list(imgs.shape)\n",
        "\n",
        "                if super_res is not None:\n",
        "                    shapes[2], shapes[3] = int(shapes[2] / super_res), int(shapes[3] / super_res)\n",
        "                    _transform = transforms.Resize((shapes[2], shapes[3]))\n",
        "                    imgs_transformed = _transform(imgs)\n",
        "                    imgs_transformed = imgs_transformed.to(device)\n",
        "\n",
        "\n",
        "                imgs = imgs.to(device)\n",
        "                labels = labels.to(device)\n",
        "\n",
        "                if noisy is not None:\n",
        "                    test_noisy_tensor = noisy[1]\n",
        "                else:\n",
        "                    test_noisy_tensor = torch.zeros(tuple(shapes)).to(device)\n",
        "\n",
        "                if super_res is None:\n",
        "                    imgs_noisy = imgs + test_noisy_tensor\n",
        "                else:\n",
        "                    imgs_noisy = imgs_transformed + test_noisy_tensor\n",
        "\n",
        "                imgs_noisy = torch.clamp(imgs_noisy, 0., 1.)\n",
        "\n",
        "                preds = model(imgs_noisy)\n",
        "                loss = loss_fn(preds, imgs)\n",
        "\n",
        "                test_loss += loss.item()\n",
        "\n",
        "        train_loss /= len(train_dataloader)\n",
        "        test_loss /= len(test_dataloader)\n",
        "\n",
        "        tqdm_dct = {'train loss:': train_loss, 'test loss:': test_loss}\n",
        "        tqdm_iter.set_postfix(tqdm_dct, refresh=True)\n",
        "        tqdm_iter.refresh()"
      ]
    },
    {
      "cell_type": "code",
      "source": [
        "train(dataloaders, model, loss_fn, optimizer, epochs, device)"
      ],
      "metadata": {
        "colab": {
          "base_uri": "https://localhost:8080/"
        },
        "id": "DvVak39TIQpy",
        "outputId": "5fb18bb1-2abc-4002-ab18-1ff5e7bd2ed0"
      },
      "execution_count": null,
      "outputs": [
        {
          "output_type": "stream",
          "name": "stderr",
          "text": [
            "100%|██████████| 30/30 [07:43<00:00, 15.45s/it, train loss:=0.104, test loss:=0.104]\n"
          ]
        }
      ]
    },
    {
      "cell_type": "code",
      "source": [
        "model.eval()\n",
        "predictions = []\n",
        "plots = 5\n",
        "for i, data in enumerate(test_dataset):\n",
        "    if i == plots:\n",
        "        break\n",
        "    predictions.append(model(data[0].to(device).unsqueeze(0)).detach().cpu())\n",
        "plotn(plots, test_dataset)\n",
        "plotn(plots, predictions)"
      ],
      "metadata": {
        "colab": {
          "base_uri": "https://localhost:8080/",
          "height": 303
        },
        "id": "fXQbkfMnIZvl",
        "outputId": "1a71af78-e14c-4dce-e334-68e7922c5144"
      },
      "execution_count": null,
      "outputs": [
        {
          "output_type": "display_data",
          "data": {
            "text/plain": [
              "<Figure size 640x480 with 5 Axes>"
            ],
            "image/png": "[encoded data removed]"
          },
          "metadata": {}
        },
        {
          "output_type": "display_data",
          "data": {
            "text/plain": [
              "<Figure size 640x480 with 5 Axes>"
            ],
            "image/png": "[encoded data removed]"
          },
          "metadata": {}
        }
      ]
    },
    {
      "cell_type": "markdown",
      "source": [
        "> **Task 1**: Try to train autoencoder with very small latent vector size, eg. 2, and plot the dots corresponding to different digits. *Hint: Use fully-connected dense layer after the convoluitonal part to reduce the vector size to the required value.*\n",
        "\n",
        "> **Task 2**: Starting from different digits, obtain their latent space representations, and see what effect adding some noise to the latent space has on the resulting digits.\n",
        "\n",
        "> **Task 3**: How and why is BCELoss used in the training of autoencoders, particularly when dealing with binary or probabilistic outputs?\n",
        "\n",
        "> **Task 4**: In the context of a convolutional autoencoder (conv2d AE), how do the downsampling and upsampling procedures work, and why are they important for the reconstruction process?"
      ],
      "metadata": {
        "id": "bI4ml-3LJ_3o"
      }
    },
    {
      "cell_type": "markdown",
      "source": [
        "## Denoising\n",
        "\n",
        "Autoencoders can be effectively used to remove noise from images. In order to train denoiser, we will start with noise-free images, and add artificial noise to them. Then, we will feed autoencoder with noisy images as input, and noise-free images as output.\n",
        "\n",
        "Let's see how this works for MNIST:"
      ],
      "metadata": {
        "id": "vM76GUeLKEWS"
      }
    },
    {
      "cell_type": "code",
      "source": [
        "plotn(5, train_dataset, noisy=True)"
      ],
      "metadata": {
        "colab": {
          "base_uri": "https://localhost:8080/",
          "height": 170
        },
        "id": "bnUeHDSTMYJu",
        "outputId": "9dff7467-0aee-43f7-e6c1-c937775d1598"
      },
      "execution_count": null,
      "outputs": [
        {
          "output_type": "display_data",
          "data": {
            "text/plain": [
              "<Figure size 640x480 with 5 Axes>"
            ],
            "image/png": "[encoded data removed]"
          },
          "metadata": {}
        }
      ]
    },
    {
      "cell_type": "code",
      "source": [
        "model = AutoEncoder().to(device)\n",
        "optimizer = optim.Adam(model.parameters(), lr=lr, eps=eps)\n",
        "loss_fn = nn.BCELoss()"
      ],
      "metadata": {
        "id": "I4tLe_CmMcHz"
      },
      "execution_count": null,
      "outputs": []
    },
    {
      "cell_type": "code",
      "source": [
        "noisy_tensor = torch.FloatTensor(noisify([256, 1, 28, 28])).to(device)\n",
        "test_noisy_tensor = torch.FloatTensor(noisify([1, 1, 28, 28])).to(device)\n",
        "noisy_tensors = (noisy_tensor, test_noisy_tensor)"
      ],
      "metadata": {
        "id": "D3sNTrpIMgYV"
      },
      "execution_count": null,
      "outputs": []
    },
    {
      "cell_type": "code",
      "source": [
        "train(dataloaders, model, loss_fn, optimizer, 100, device, noisy=noisy_tensors)"
      ],
      "metadata": {
        "colab": {
          "base_uri": "https://localhost:8080/"
        },
        "id": "snpZqXFoMkUa",
        "outputId": "8132bd1a-cac5-469e-df2d-26010b4446e7"
      },
      "execution_count": null,
      "outputs": [
        {
          "output_type": "stream",
          "name": "stderr",
          "text": [
            "100%|██████████| 100/100 [25:20<00:00, 15.20s/it, train loss:=0.115, test loss:=0.116]\n"
          ]
        }
      ]
    },
    {
      "cell_type": "code",
      "source": [
        "model.eval()\n",
        "predictions = []\n",
        "noise = []\n",
        "plots = 5\n",
        "for i, data in enumerate(test_dataset):\n",
        "    if i == plots:\n",
        "        break\n",
        "    shapes = data[0].shape\n",
        "    noisy_data = data[0] + test_noisy_tensor[0].detach().cpu()\n",
        "    noise.append(noisy_data)\n",
        "    predictions.append(model(noisy_data.to(device).unsqueeze(0)).detach().cpu())\n",
        "plotn(plots, noise)\n",
        "plotn(plots, predictions)"
      ],
      "metadata": {
        "id": "3Dp8FPhXM5V_"
      },
      "execution_count": null,
      "outputs": []
    },
    {
      "cell_type": "markdown",
      "source": [
        "> **Exercise:** See how denoiser trained on MNIST digits works for different images. As an example, you can take [Fashion MNIST](https://pytorch.org/vision/stable/generated/torchvision.datasets.FashionMNIST.html#torchvision.datasets.FashionMNIST) dataset, which has the same image size. Note that denoiser works well only on the same image type that it was trained on (i.e. for the same probability distribution of input data)."
      ],
      "metadata": {
        "id": "YODCiUKZM_Rz"
      }
    },
    {
      "cell_type": "markdown",
      "source": [
        "## Super-Resolution\n",
        "\n",
        "Similarly to denoiser, we can train autoencoders to increase the resolution of the image. To train super-resolution network, we will start with high-resolution images, and automatically downscale them to produce network inputs. We will then feed autoencoder with small images as inputs and high-resolution images as outputs.\n",
        "\n",
        "For that let's downscale image to 14x14 at train."
      ],
      "metadata": {
        "id": "HD2NXUhuNAwO"
      }
    },
    {
      "cell_type": "code",
      "source": [
        "super_res_koeff = 2.0\n",
        "plotn(5, train_dataset, super_res=super_res_koeff)"
      ],
      "metadata": {
        "id": "a2UmviH6M-Gr"
      },
      "execution_count": null,
      "outputs": []
    },
    {
      "cell_type": "code",
      "source": [
        "class SuperResolutionEncoder(nn.Module):\n",
        "    def __init__(self):\n",
        "        super().__init__()\n",
        "        self.conv1 = nn.Conv2d(1, 16, kernel_size=(3, 3), padding='same')\n",
        "        self.maxpool1 = nn.MaxPool2d(kernel_size=(2, 2))\n",
        "        self.conv2 = nn.Conv2d(16, 8, kernel_size=(3, 3), padding='same')\n",
        "        self.maxpool2 = nn.MaxPool2d(kernel_size=(2, 2), padding=(1, 1))\n",
        "        self.relu = nn.ReLU()\n",
        "\n",
        "    def forward(self, input):\n",
        "        hidden1 = self.maxpool1(self.relu(self.conv1(input)))\n",
        "        encoded = self.maxpool2(self.relu(self.conv2(hidden1)))\n",
        "        return encoded"
      ],
      "metadata": {
        "id": "w6_tWboCNOfo"
      },
      "execution_count": null,
      "outputs": []
    },
    {
      "cell_type": "code",
      "source": [
        "class SuperResolutionEncoder(nn.Module):\n",
        "    def __init__(self):\n",
        "        super().__init__()\n",
        "        self.conv1 = nn.Conv2d(1, 16, kernel_size=(3, 3), padding='same')\n",
        "        self.maxpool1 = nn.MaxPool2d(kernel_size=(2, 2))\n",
        "        self.conv2 = nn.Conv2d(16, 8, kernel_size=(3, 3), padding='same')\n",
        "        self.maxpool2 = nn.MaxPool2d(kernel_size=(2, 2), padding=(1, 1))\n",
        "        self.relu = nn.ReLU()\n",
        "\n",
        "    def forward(self, input):\n",
        "        hidden1 = self.maxpool1(self.relu(self.conv1(input)))\n",
        "        encoded = self.maxpool2(self.relu(self.conv2(hidden1)))\n",
        "        return encoded"
      ],
      "metadata": {
        "id": "uh0tIceHNUjp"
      },
      "execution_count": null,
      "outputs": []
    },
    {
      "cell_type": "code",
      "source": [
        "train(dataloaders, model, loss_fn, optimizer, epochs, device, super_res=2.0)"
      ],
      "metadata": {
        "id": "dOHCrG_HNWw7"
      },
      "execution_count": null,
      "outputs": []
    },
    {
      "cell_type": "code",
      "source": [
        "model.eval()\n",
        "predictions = []\n",
        "plots = 5\n",
        "shapes = test_dataset[0][0].shape\n",
        "\n",
        "for i, data in enumerate(test_dataset):\n",
        "    if i == plots:\n",
        "        break\n",
        "    _transform = transforms.Resize((int(shapes[1] / super_res_koeff), int(shapes[2] / super_res_koeff)))\n",
        "    predictions.append(model(_transform(data[0]).to(device).unsqueeze(0)).detach().cpu())\n",
        "plotn(plots, test_dataset, super_res=super_res_koeff)\n",
        "plotn(plots, predictions)"
      ],
      "metadata": {
        "id": "oRSgWcoqNZms"
      },
      "execution_count": null,
      "outputs": []
    },
    {
      "cell_type": "markdown",
      "source": [
        "> **Exercise**: Try to train super-resolution network on [CIFAR-10](https://pytorch.org/vision/stable/generated/torchvision.datasets.CIFAR10.html) for 2x and 4x upscaling. Use noise as input to 4x upscaling model and observe the result."
      ],
      "metadata": {
        "id": "tPV8Fd-QNeb_"
      }
    }
  ]
}