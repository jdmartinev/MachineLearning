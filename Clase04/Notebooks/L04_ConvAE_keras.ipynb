{
  "nbformat": 4,
  "nbformat_minor": 0,
  "metadata": {
    "colab": {
      "provenance": [],
      "authorship_tag": "ABX9TyO49Pj8EabyhslGnqo8zRy6",
      "include_colab_link": true
    },
    "kernelspec": {
      "name": "python3",
      "display_name": "Python 3"
    },
    "language_info": {
      "name": "python"
    }
  },
  "cells": [
    {
      "cell_type": "markdown",
      "metadata": {
        "id": "view-in-github",
        "colab_type": "text"
      },
      "source": [
        "<a href=\"https://colab.research.google.com/github/jdmartinev/ArtificialIntelligenceIM/blob/main/Lecture06/notebooks/L06_ConvAE_keras.ipynb\" target=\"_parent\"><img src=\"https://colab.research.google.com/assets/colab-badge.svg\" alt=\"Open In Colab\"/></a>"
      ]
    },
    {
      "cell_type": "markdown",
      "source": [
        "## Convolutional autoencoder\n",
        "\n",
        "\n",
        "Let's create simplest autoencoder for MNIST!"
      ],
      "metadata": {
        "id": "k108t8-PlZXI"
      }
    },
    {
      "cell_type": "code",
      "execution_count": null,
      "metadata": {
        "colab": {
          "base_uri": "https://localhost:8080/"
        },
        "id": "es476MNKlBMm",
        "outputId": "0fc3d87d-31d8-4861-ef29-16a249211903"
      },
      "outputs": [
        {
          "output_type": "stream",
          "name": "stdout",
          "text": [
            "Downloading data from https://storage.googleapis.com/tensorflow/tf-keras-datasets/mnist.npz\n",
            "\u001b[1m11490434/11490434\u001b[0m \u001b[32m━━━━━━━━━━━━━━━━━━━━\u001b[0m\u001b[37m\u001b[0m \u001b[1m0s\u001b[0m 0us/step\n"
          ]
        }
      ],
      "source": [
        "import tensorflow as tf\n",
        "from tensorflow.keras.datasets import mnist\n",
        "import numpy as np\n",
        "import matplotlib.pyplot as plt\n",
        "\n",
        "from tensorflow.keras.layers import Input, Dense, Conv2D, MaxPooling2D, UpSampling2D, Lambda\n",
        "from tensorflow.keras.models import Model\n",
        "from tensorflow.keras.losses import binary_crossentropy,mse\n",
        "\n",
        "(x_train, y_trainclass), (x_test, y_testclass) = mnist.load_data()"
      ]
    },
    {
      "cell_type": "code",
      "source": [
        "def plotn(n,x):\n",
        "  fig,ax = plt.subplots(1,n)\n",
        "  for i,z in enumerate(x[0:n]):\n",
        "    ax[i].imshow(z.reshape(28,28) if z.size==28*28 else z.reshape(14,14) if z.size==14*14 else z)\n",
        "  plt.show()\n",
        "\n",
        "plotn(5,x_train)"
      ],
      "metadata": {
        "colab": {
          "base_uri": "https://localhost:8080/",
          "height": 150
        },
        "id": "cHdWLvlplfYx",
        "outputId": "9d579693-9090-4bf3-f062-e54a38139939"
      },
      "execution_count": null,
      "outputs": [
        {
          "output_type": "display_data",
          "data": {
            "text/plain": [
              "<Figure size 640x480 with 5 Axes>"
            ],
            "image/png": "[encoded data removed]"
          },
          "metadata": {}
        }
      ]
    },
    {
      "cell_type": "code",
      "source": [
        "input_img = Input(shape=(28, 28, 1))\n",
        "\n",
        "x = Conv2D(16, (3, 3), activation='relu', padding='same')(input_img)\n",
        "x = MaxPooling2D((2, 2), padding='same')(x)\n",
        "x = Conv2D(8, (3, 3), activation='relu', padding='same')(x)\n",
        "x = MaxPooling2D((2, 2), padding='same')(x)\n",
        "x = Conv2D(8, (3, 3), activation='relu', padding='same')(x)\n",
        "encoded = MaxPooling2D((2, 2), padding='same')(x)\n",
        "\n",
        "encoder = Model(input_img,encoded)\n",
        "\n",
        "input_rep = Input(shape=(4,4,8))\n",
        "\n",
        "x = Conv2D(8, (3, 3), activation='relu', padding='same')(input_rep)\n",
        "x = UpSampling2D((2, 2))(x)\n",
        "x = Conv2D(8, (3, 3), activation='relu', padding='same')(x)\n",
        "x = UpSampling2D((2, 2))(x)\n",
        "x = Conv2D(16, (3, 3), activation='relu')(x)\n",
        "x = UpSampling2D((2, 2))(x)\n",
        "decoded = Conv2D(1, (3, 3), activation='sigmoid', padding='same')(x)\n",
        "\n",
        "decoder = Model(input_rep,decoded)\n",
        "\n",
        "autoencoder = Model(input_img, decoder(encoder(input_img)))\n",
        "autoencoder.compile(optimizer='adam', loss='binary_crossentropy')"
      ],
      "metadata": {
        "id": "Qc1cOLt4lrjg"
      },
      "execution_count": null,
      "outputs": []
    },
    {
      "cell_type": "code",
      "source": [
        "x_train = x_train.astype('float32') / 255.\n",
        "x_test = x_test.astype('float32') / 255.\n",
        "x_train = np.reshape(x_train, (len(x_train), 28, 28, 1))\n",
        "x_test = np.reshape(x_test, (len(x_test), 28, 28, 1))"
      ],
      "metadata": {
        "id": "cOHs5ij8l2Uo"
      },
      "execution_count": null,
      "outputs": []
    },
    {
      "cell_type": "code",
      "source": [
        "autoencoder.fit(x_train, x_train,\n",
        "                epochs=25,\n",
        "                batch_size=128,\n",
        "                shuffle=True,\n",
        "                validation_data=(x_test, x_test))"
      ],
      "metadata": {
        "colab": {
          "base_uri": "https://localhost:8080/"
        },
        "id": "oBDhJm6Hl9Hx",
        "outputId": "715a60b2-f4a0-4287-cf50-2b61a32d5723"
      },
      "execution_count": null,
      "outputs": [
        {
          "output_type": "stream",
          "name": "stdout",
          "text": [
            "Epoch 1/25\n",
            "\u001b[1m469/469\u001b[0m \u001b[32m━━━━━━━━━━━━━━━━━━━━\u001b[0m\u001b[37m\u001b[0m \u001b[1m75s\u001b[0m 152ms/step - loss: 0.3051 - val_loss: 0.1485\n",
            "Epoch 2/25\n",
            "\u001b[1m469/469\u001b[0m \u001b[32m━━━━━━━━━━━━━━━━━━━━\u001b[0m\u001b[37m\u001b[0m \u001b[1m85s\u001b[0m 159ms/step - loss: 0.1425 - val_loss: 0.1279\n",
            "Epoch 3/25\n",
            "\u001b[1m469/469\u001b[0m \u001b[32m━━━━━━━━━━━━━━━━━━━━\u001b[0m\u001b[37m\u001b[0m \u001b[1m78s\u001b[0m 150ms/step - loss: 0.1266 - val_loss: 0.1188\n",
            "Epoch 4/25\n",
            "\u001b[1m469/469\u001b[0m \u001b[32m━━━━━━━━━━━━━━━━━━━━\u001b[0m\u001b[37m\u001b[0m \u001b[1m86s\u001b[0m 159ms/step - loss: 0.1186 - val_loss: 0.1142\n",
            "Epoch 5/25\n",
            "\u001b[1m469/469\u001b[0m \u001b[32m━━━━━━━━━━━━━━━━━━━━\u001b[0m\u001b[37m\u001b[0m \u001b[1m85s\u001b[0m 166ms/step - loss: 0.1142 - val_loss: 0.1105\n",
            "Epoch 6/25\n",
            "\u001b[1m 66/469\u001b[0m \u001b[32m━━\u001b[0m\u001b[37m━━━━━━━━━━━━━━━━━━\u001b[0m \u001b[1m1:06\u001b[0m 166ms/step - loss: 0.1100"
          ]
        }
      ]
    },
    {
      "cell_type": "code",
      "source": [
        "y_test = autoencoder.predict(x_test[0:5])\n",
        "plotn(5,x_test)\n",
        "plotn(5,y_test)"
      ],
      "metadata": {
        "id": "OLgIMJ_JmBlX"
      },
      "execution_count": null,
      "outputs": []
    },
    {
      "cell_type": "markdown",
      "source": [
        "> **Task 1**: Try to train autoencoder with very small latent vector size, eg. 2, and plot the dots corresponding to different digits. *Hint: Use fully-connected dense layer after the convoluitonal part to reduce the vector size to the required value.*\n",
        "\n",
        "> **Task 2**: Starting from different digits, obtain their latent space representations, and see what effect adding some noise to the latent space has on the resulting digits.\n",
        "\n",
        "> **Task 3**: How and why is BCELoss used in the training of autoencoders, particularly when dealing with binary or probabilistic outputs?\n",
        "\n",
        "> **Task 4**: In the context of a convolutional autoencoder (conv2d AE), how do the downsampling and upsampling procedures work, and why are they important for the reconstruction process?"
      ],
      "metadata": {
        "id": "UEs_3AW1mne3"
      }
    },
    {
      "cell_type": "markdown",
      "source": [
        "## Denoising\n",
        "\n",
        "Autoencoders can be effectively used to remove noise from images. In order to train denoiser, we will start with noise-free images, and add artificial noise to them. Then, we will feed autoencoder with noisy images as input, and noise-free images as output.\n",
        "\n",
        "Let's see how this works for MNIST:"
      ],
      "metadata": {
        "id": "_GKBxresmyZ2"
      }
    },
    {
      "cell_type": "code",
      "source": [
        "def noisify(data):\n",
        "  return np.clip(data+np.random.normal(loc=0.5,scale=0.5,size=data.shape),0.,1.)\n",
        "\n",
        "x_train_noise = noisify(x_train)\n",
        "x_test_noise = noisify(x_test)\n",
        "\n",
        "plotn(5,x_train_noise)"
      ],
      "metadata": {
        "id": "6HCRJg8smmRM"
      },
      "execution_count": null,
      "outputs": []
    },
    {
      "cell_type": "code",
      "source": [
        "autoencoder.fit(x_train_noise, x_train,\n",
        "                epochs=25,\n",
        "                batch_size=128,\n",
        "                shuffle=True,\n",
        "                validation_data=(x_test_noise, x_test))"
      ],
      "metadata": {
        "id": "sCLrpDkhm9LR"
      },
      "execution_count": null,
      "outputs": []
    },
    {
      "cell_type": "code",
      "source": [
        "y_test = autoencoder.predict(x_test_noise[0:5])\n",
        "plotn(5,x_test_noise)\n",
        "plotn(5,y_test)"
      ],
      "metadata": {
        "id": "OaVZWAnsnA38"
      },
      "execution_count": null,
      "outputs": []
    },
    {
      "cell_type": "markdown",
      "source": [
        "> **Exercise:** See how denoiser trained on MNIST digits works for different images. As an example, you can take [Fashion MNIST](https://keras.io/api/datasets/fashion_mnist/) dataset, which has the same image size. Note that denoiser works well only on the same image type that it was trained on (i.e. for the same probability distribution of input data)."
      ],
      "metadata": {
        "id": "Mr9b_kMNnIZc"
      }
    },
    {
      "cell_type": "markdown",
      "source": [
        "## Super-resolution\n",
        "\n",
        "Similarly to denoiser, we can train autoencoders to increase the resolution of the image. To train super-resolution network, we will start with high-resolution images, and automatically downscale them to produce network inputs. We will then feed autoencoder with small images as inputs and high-res images as outputs.\n",
        "\n",
        "Let's downscale MNIST to 14x14:"
      ],
      "metadata": {
        "id": "_YY6apQGnMcO"
      }
    },
    {
      "cell_type": "code",
      "source": [
        "x_train_lr = tf.keras.layers.AveragePooling2D()(x_train).numpy()\n",
        "x_test_lr = tf.keras.layers.AveragePooling2D()(x_test).numpy()\n",
        "plotn(5,x_train_lr)"
      ],
      "metadata": {
        "id": "Ls628FCGnPwf"
      },
      "execution_count": null,
      "outputs": []
    },
    {
      "cell_type": "code",
      "source": [
        "input_img = Input(shape=(14, 14, 1))\n",
        "\n",
        "x = Conv2D(16, (3, 3), activation='relu', padding='same')(input_img)\n",
        "x = MaxPooling2D((2, 2), padding='same')(x)\n",
        "x = Conv2D(8, (3, 3), activation='relu', padding='same')(x)\n",
        "encoded = MaxPooling2D((2, 2), padding='same')(x)\n",
        "\n",
        "encoder = Model(input_img,encoded)\n",
        "\n",
        "input_rep = Input(shape=(4,4,8))\n",
        "\n",
        "x = Conv2D(8, (3, 3), activation='relu', padding='same')(input_rep)\n",
        "x = UpSampling2D((2, 2))(x)\n",
        "x = Conv2D(8, (3, 3), activation='relu', padding='same')(x)\n",
        "x = UpSampling2D((2, 2))(x)\n",
        "x = Conv2D(16, (3, 3), activation='relu')(x)\n",
        "x = UpSampling2D((2, 2))(x)\n",
        "decoded = Conv2D(1, (3, 3), activation='sigmoid', padding='same')(x)\n",
        "\n",
        "decoder = Model(input_rep,decoded)\n",
        "\n",
        "autoencoder = Model(input_img, decoder(encoder(input_img)))\n",
        "autoencoder.compile(optimizer='adam', loss='binary_crossentropy')"
      ],
      "metadata": {
        "id": "cLHxNuUvnTam"
      },
      "execution_count": null,
      "outputs": []
    },
    {
      "cell_type": "code",
      "source": [
        "autoencoder.fit(x_train_lr, x_train,\n",
        "                epochs=25,\n",
        "                batch_size=128,\n",
        "                shuffle=True,\n",
        "                validation_data=(x_test_lr, x_test))"
      ],
      "metadata": {
        "id": "oEoz6fgJnWs8"
      },
      "execution_count": null,
      "outputs": []
    },
    {
      "cell_type": "code",
      "source": [
        "y_test_lr = autoencoder.predict(x_test_lr[0:5])\n",
        "plotn(5,x_test_lr)\n",
        "plotn(5,y_test_lr)"
      ],
      "metadata": {
        "id": "7KHD0WoknZJF"
      },
      "execution_count": null,
      "outputs": []
    },
    {
      "cell_type": "markdown",
      "source": [
        "> **Exercise**: Try to train super-resolution network on [CIFAR-10](https://keras.io/api/datasets/cifar10/) for 2x and 4x upscaling. Use noise as input to 4x upscaling model and observe the result."
      ],
      "metadata": {
        "id": "3usg_Phvnbvx"
      }
    }
  ]
}